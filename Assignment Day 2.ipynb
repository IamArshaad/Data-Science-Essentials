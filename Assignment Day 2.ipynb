{
 "cells": [
  {
   "cell_type": "markdown",
   "metadata": {},
   "source": [
    "# Question 1"
   ]
  },
  {
   "cell_type": "code",
   "execution_count": 2,
   "metadata": {
    "scrolled": true
   },
   "outputs": [
    {
     "name": "stdout",
     "output_type": "stream",
     "text": [
      "[]\n",
      "1\n",
      "2\n",
      "3\n",
      "4\n",
      "5\n",
      "6\n",
      "7\n",
      "8\n",
      "9\n",
      "10\n",
      "[2, 4, 6, 8, 10]\n"
     ]
    }
   ],
   "source": [
    "l=[]\n",
    "print(l)\n",
    "for i in range(10):\n",
    "    num = int(input())\n",
    "    if num%2 ==0:\n",
    "        l.append(num)\n",
    "print(l)"
   ]
  },
  {
   "cell_type": "markdown",
   "metadata": {},
   "source": [
    "# Question 2"
   ]
  },
  {
   "cell_type": "raw",
   "metadata": {},
   "source": [
    "List comprehension is the method of creating a list with the use of a square brackets by using  for loop enclosed inside.\n"
   ]
  },
  {
   "cell_type": "code",
   "execution_count": 6,
   "metadata": {},
   "outputs": [
    {
     "name": "stdout",
     "output_type": "stream",
     "text": [
      "[0, 1, 2, 3]\n",
      "['A', 'r', 's', 'h', 'a', 'd']\n"
     ]
    }
   ],
   "source": [
    "#Let's see some examples for list comprehension\n",
    "\n",
    "list1 = [Number for Number in range(4)]\n",
    "print(list1)\n",
    "\n",
    "list2 = [letter for letter in \"Arshad\"]\n",
    "print(list2)"
   ]
  },
  {
   "cell_type": "markdown",
   "metadata": {},
   "source": [
    "# Question 3 "
   ]
  },
  {
   "cell_type": "code",
   "execution_count": 9,
   "metadata": {},
   "outputs": [
    {
     "name": "stdout",
     "output_type": "stream",
     "text": [
      "Input a number 6\n",
      "{1: 1, 2: 4, 3: 9, 4: 16, 5: 25, 6: 36}\n"
     ]
    }
   ],
   "source": [
    "n=int(input(\"Input a number \"))\n",
    "d = dict()\n",
    "for i in range(1,n+1):\n",
    "    d[i]=i*i\n",
    "print(d) "
   ]
  },
  {
   "cell_type": "markdown",
   "metadata": {},
   "source": [
    "# Question 4"
   ]
  },
  {
   "cell_type": "code",
   "execution_count": 4,
   "metadata": {},
   "outputs": [
    {
     "name": "stdout",
     "output_type": "stream",
     "text": [
      "UP-6\n",
      "DOWN-3\n",
      "RIGHT-5\n",
      "LEFT-3\n",
      "3.605551275463989\n",
      "4\n"
     ]
    }
   ],
   "source": [
    "x = int(input('UP-'))\n",
    "y = int(input('DOWN-'))\n",
    "if x>y:\n",
    "    k = x-y\n",
    "elif x<y:\n",
    "    k = y-x\n",
    "a = int(input('RIGHT-'))\n",
    "b = int(input('LEFT-'))\n",
    "if a>b:\n",
    "    l = a-b\n",
    "elif a<b:\n",
    "    l = b-a\n",
    "distance = ((k**2)+(l**2))**(1/2)\n",
    "print(distance)\n",
    "r = round(distance)\n",
    "distance = print(r)"
   ]
  },
  {
   "cell_type": "code",
   "execution_count": null,
   "metadata": {},
   "outputs": [],
   "source": []
  }
 ],
 "metadata": {
  "kernelspec": {
   "display_name": "Python 3",
   "language": "python",
   "name": "python3"
  },
  "language_info": {
   "codemirror_mode": {
    "name": "ipython",
    "version": 3
   },
   "file_extension": ".py",
   "mimetype": "text/x-python",
   "name": "python",
   "nbconvert_exporter": "python",
   "pygments_lexer": "ipython3",
   "version": "3.8.3"
  }
 },
 "nbformat": 4,
 "nbformat_minor": 4
}
