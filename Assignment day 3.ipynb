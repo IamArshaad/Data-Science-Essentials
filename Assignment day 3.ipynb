{
 "cells": [
  {
   "cell_type": "code",
   "execution_count": 1,
   "metadata": {},
   "outputs": [],
   "source": [
    "import numpy"
   ]
  },
  {
   "cell_type": "code",
   "execution_count": 2,
   "metadata": {},
   "outputs": [],
   "source": [
    "import numpy as np"
   ]
  },
  {
   "cell_type": "markdown",
   "metadata": {},
   "source": [
    "# Question 1"
   ]
  },
  {
   "cell_type": "code",
   "execution_count": 3,
   "metadata": {},
   "outputs": [
    {
     "name": "stdout",
     "output_type": "stream",
     "text": [
      "[ 2  5  8 11 14 17 20 23 26 29 32 35 38 41 44 47]\n"
     ]
    }
   ],
   "source": [
    "arr = np.arange(2,50,3)\n",
    "print(arr)"
   ]
  },
  {
   "cell_type": "markdown",
   "metadata": {},
   "source": [
    "# Question 2"
   ]
  },
  {
   "cell_type": "code",
   "execution_count": 7,
   "metadata": {},
   "outputs": [
    {
     "name": "stdout",
     "output_type": "stream",
     "text": [
      "Enter the value for l1 : 3\n",
      "Enter the value for l1 : 44\n",
      "Enter the value for l1 : 32\n",
      "Enter the value for l1 : 6\n",
      "Enter the value for l1 : 44\n",
      "Enter the value for l2 : 67\n",
      "Enter the value for l2 : 5\n",
      "Enter the value for l2 : 8\n",
      "Enter the value for l2 : 9\n",
      "Enter the value for l2 : 43\n",
      "[ 3 44 32  6 44]\n",
      "[67  5  8  9 43]\n",
      "Array value for concatenated arr : [ 3 44 32  6 44 67  5  8  9 43]\n",
      "Sorted Array for concatenated arr : [ 3  5  6  8  9 32 43 44 44 67]\n"
     ]
    }
   ],
   "source": [
    "l1 = []\n",
    "l2 = []\n",
    "\n",
    "for i in range(5):\n",
    "  x=int(input(\"Enter the value for l1 : \"))\n",
    "  l1.append(x)\n",
    "\n",
    "for i in range(5):\n",
    "  x=int(input(\"Enter the value for l2 : \"))\n",
    "  l2.append(x)\n",
    "\n",
    "arr1 = np.array(l1)\n",
    "arr2 = np.array(l2)\n",
    "\n",
    "print(arr1)\n",
    "print(arr2)\n",
    "\n",
    "arr = np.concatenate((arr1, arr2))\n",
    "print(\"Array value for concatenated arr :\",arr)\n",
    "\n",
    "Sorted_Array = np.sort(arr)\n",
    "print(\"Sorted Array for concatenated arr :\",Sorted_Array)"
   ]
  },
  {
   "cell_type": "markdown",
   "metadata": {},
   "source": [
    "# Question 3"
   ]
  },
  {
   "cell_type": "code",
   "execution_count": 8,
   "metadata": {},
   "outputs": [
    {
     "data": {
      "text/plain": [
       "array([[1, 2, 3],\n",
       "       [3, 4, 6],\n",
       "       [5, 6, 8]])"
      ]
     },
     "execution_count": 8,
     "metadata": {},
     "output_type": "execute_result"
    }
   ],
   "source": [
    "arr = np.array([[1,2,3],[3,4,6],[5,6,8]])\n",
    "arr"
   ]
  },
  {
   "cell_type": "code",
   "execution_count": 10,
   "metadata": {},
   "outputs": [
    {
     "name": "stdout",
     "output_type": "stream",
     "text": [
      "9\n"
     ]
    }
   ],
   "source": [
    "#size of array\n",
    "\n",
    "print(arr.size)"
   ]
  },
  {
   "cell_type": "code",
   "execution_count": 11,
   "metadata": {},
   "outputs": [
    {
     "name": "stdout",
     "output_type": "stream",
     "text": [
      "2\n"
     ]
    }
   ],
   "source": [
    "#dimension of array\n",
    "\n",
    "print(arr.ndim)"
   ]
  },
  {
   "cell_type": "markdown",
   "metadata": {},
   "source": [
    "# Question 4"
   ]
  },
  {
   "cell_type": "code",
   "execution_count": null,
   "metadata": {},
   "outputs": [],
   "source": [
    "arr = np.arange(6)"
   ]
  },
  {
   "cell_type": "code",
   "execution_count": null,
   "metadata": {},
   "outputs": [],
   "source": []
  },
  {
   "cell_type": "markdown",
   "metadata": {},
   "source": [
    "# Question 5"
   ]
  },
  {
   "cell_type": "code",
   "execution_count": 6,
   "metadata": {},
   "outputs": [
    {
     "name": "stdout",
     "output_type": "stream",
     "text": [
      "stacked horizontally: [ 1  4  9 16 25 36 64 49 36 25 16  9]\n",
      "Stacked vertically: [[ 1  4  9 16 25 36]\n",
      " [64 49 36 25 16  9]]\n"
     ]
    }
   ],
   "source": [
    "import numpy\n",
    "import numpy as np\n",
    "#Let two arrays be\n",
    "arr1 = np.square([ 1,2,3,4,5,6 ])\n",
    "arr2 = np.square([ 8,7,6,5,4,3 ])\n",
    "\n",
    "#Stacking\n",
    "print(\"stacked horizontally:\",np.hstack((arr1, arr2)))\n",
    "print(\"Stacked vertically:\",np.vstack((arr1,arr2)))"
   ]
  },
  {
   "cell_type": "markdown",
   "metadata": {},
   "source": [
    "# Question 6"
   ]
  },
  {
   "cell_type": "code",
   "execution_count": 21,
   "metadata": {},
   "outputs": [
    {
     "name": "stdout",
     "output_type": "stream",
     "text": [
      "[[ 1  2]\n",
      " [ 2  2]\n",
      " [ 3  2]\n",
      " [ 4  3]\n",
      " [ 5  1]\n",
      " [ 6  1]\n",
      " [ 7  2]\n",
      " [ 8  1]\n",
      " [ 9  1]\n",
      " [10  1]\n",
      " [16  1]\n",
      " [35  1]\n",
      " [77  1]]\n"
     ]
    }
   ],
   "source": [
    "import numpy\n",
    "import numpy as np\n",
    "\n",
    "arr1 = np.array([4, 4, 9, 16, 35, 1, 4, 2, 3, 2, 7, 6, 5, 7, 8, 10, 1, 3, 77])\n",
    "\n",
    "unique, counts = np.unique(arr1, return_counts=True)\n",
    "\n",
    "arr = np.asarray((unique, counts)).T\n",
    "\n",
    "print(arr)\n"
   ]
  },
  {
   "cell_type": "code",
   "execution_count": null,
   "metadata": {},
   "outputs": [],
   "source": []
  }
 ],
 "metadata": {
  "kernelspec": {
   "display_name": "Python 3",
   "language": "python",
   "name": "python3"
  },
  "language_info": {
   "codemirror_mode": {
    "name": "ipython",
    "version": 3
   },
   "file_extension": ".py",
   "mimetype": "text/x-python",
   "name": "python",
   "nbconvert_exporter": "python",
   "pygments_lexer": "ipython3",
   "version": "3.8.3"
  }
 },
 "nbformat": 4,
 "nbformat_minor": 4
}
